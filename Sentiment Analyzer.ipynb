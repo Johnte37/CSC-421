{
 "cells": [
  {
   "cell_type": "code",
   "execution_count": 182,
   "id": "e1aea25d",
   "metadata": {},
   "outputs": [
    {
     "name": "stderr",
     "output_type": "stream",
     "text": [
      "[nltk_data] Downloading package stopwords to\n",
      "[nltk_data]     C:\\Users\\User/nltk_data...\n",
      "[nltk_data]   Package stopwords is already up-to-date!\n"
     ]
    }
   ],
   "source": [
    "import nltk\n",
    "nltk.download('stopwords')\n",
    "from nltk.corpus import stopwords\n",
    "from bs4 import BeautifulSoup\n",
    "import requests\n",
    "import numpy as np\n",
    "from sklearn.feature_extraction.text import CountVectorizer, TfidfVectorizer\n",
    "from sklearn.naive_bayes import MultinomialNB\n",
    "from sklearn.svm import SVC\n",
    "from sklearn.linear_model import LogisticRegression\n",
    "from sklearn.metrics import accuracy_score, precision_score, recall_score"
   ]
  },
  {
   "cell_type": "code",
   "execution_count": 183,
   "id": "d2cbd22e",
   "metadata": {},
   "outputs": [],
   "source": [
    "def preprocess_text(text):\n",
    "    stop_words = set(stopwords.words('english'))\n",
    "    text = text.lower()\n",
    "    text = ' '.join([word for word in text.split() if word not in stop_words])\n",
    "    return text"
   ]
  },
  {
   "cell_type": "code",
   "execution_count": 184,
   "id": "4ee692ae",
   "metadata": {},
   "outputs": [],
   "source": [
    "url = 'https://www.imdb.com/title/tt1745960/reviews/?ref_=tt_ql_2'\n",
    "response = requests.get(url)\n",
    "soup = BeautifulSoup(response.text, 'html.parser')"
   ]
  },
  {
   "cell_type": "code",
   "execution_count": 185,
   "id": "8a0cee52",
   "metadata": {},
   "outputs": [],
   "source": [
    "reviews = []\n",
    "labels = []"
   ]
  },
  {
   "cell_type": "code",
   "execution_count": 186,
   "id": "0e65b9f9",
   "metadata": {},
   "outputs": [],
   "source": [
    "for review in soup.find_all(class_='review-container'):\n",
    "    text = review.find(class_='text show-more__control').get_text(strip=True)\n",
    "    sentiment_elem = review.find(class_='spoiler-warning')\n",
    "    if sentiment_elem is not None:\n",
    "        sentiment = sentiment_elem.get_text(strip=True)\n",
    "        labels.append(sentiment)\n",
    "    else:\n",
    "        labels.append('N/A')\n",
    "    reviews.append(text)"
   ]
  },
  {
   "cell_type": "code",
   "execution_count": 187,
   "id": "03d9f437",
   "metadata": {},
   "outputs": [],
   "source": [
    "if len(reviews) == 0 or len(labels) == 0:\n",
    "    print(\"Error: No reviews or labels found.\")\n",
    "else:\n",
    "    # Perform train-test split\n",
    "    from sklearn.model_selection import train_test_split\n",
    "\n",
    "    # Preprocess the reviews\n",
    "    reviews = [preprocess_text(review) for review in reviews]\n",
    "\n",
    "    # Convert labels to numpy array\n",
    "    labels = np.array(labels)\n"
   ]
  },
  {
   "cell_type": "code",
   "execution_count": 188,
   "id": "32de00ff",
   "metadata": {},
   "outputs": [],
   "source": [
    " X_train, X_test, y_train, y_test = train_test_split(reviews, labels, test_size=0.2, random_state=42)"
   ]
  },
  {
   "cell_type": "code",
   "execution_count": 189,
   "id": "38744834",
   "metadata": {},
   "outputs": [],
   "source": [
    "stop_words = stopwords.words('english')\n",
    "vectorizer = TfidfVectorizer(stop_words=stop_words, max_features=5000)\n",
    "X_train_vec = vectorizer.fit_transform(X_train)\n",
    "X_test_vec = vectorizer.transform(X_test)\n"
   ]
  },
  {
   "cell_type": "code",
   "execution_count": 190,
   "id": "2036a354",
   "metadata": {},
   "outputs": [],
   "source": [
    "nb_model = MultinomialNB()\n",
    "nb_preds = []\n",
    "if len(X_train) > 0 and len(X_test) > 0:\n",
    "    nb_model.fit(X_train_vec, y_train)\n",
    "    nb_preds = nb_model.predict(X_test_vec)"
   ]
  },
  {
   "cell_type": "code",
   "execution_count": 191,
   "id": "56a50071",
   "metadata": {},
   "outputs": [],
   "source": [
    "svm_model = SVC()\n",
    "svm_preds = []\n",
    "if len(X_train) > 0 and len(X_test) > 0:\n",
    "    svm_model.fit(X_train_vec, y_train)\n",
    "    svm_preds = svm_model.predict(X_test_vec)"
   ]
  },
  {
   "cell_type": "code",
   "execution_count": 192,
   "id": "ecc4b3b6",
   "metadata": {},
   "outputs": [],
   "source": [
    "lr_model = LogisticRegression()\n",
    "lr_preds = []\n",
    "if len(X_train) > 0 and len(X_test) > 0:\n",
    "    lr_model.fit(X_train_vec, y_train)\n",
    "    lr_preds = lr_model.predict(X_test_vec)"
   ]
  },
  {
   "cell_type": "code",
   "execution_count": 193,
   "id": "ca70e755",
   "metadata": {},
   "outputs": [
    {
     "name": "stdout",
     "output_type": "stream",
     "text": [
      "Naive Bayes Accuracy:  0.8\n",
      "Naive Bayes Precision:  0.64\n",
      "Naive Bayes Recall:  0.8\n",
      "SVM Accuracy:  0.8\n",
      "SVM Precision:  0.64\n",
      "SVM Recall:  0.8\n",
      "Logistic Regression Accuracy:  0.8\n",
      "Logistic Regression Precision:  0.64\n",
      "Logistic Regression Recall:  0.8\n"
     ]
    },
    {
     "name": "stderr",
     "output_type": "stream",
     "text": [
      "C:\\Users\\User\\AppData\\Local\\Programs\\Python\\Python311\\Lib\\site-packages\\sklearn\\metrics\\_classification.py:1344: UndefinedMetricWarning: Precision is ill-defined and being set to 0.0 in labels with no predicted samples. Use `zero_division` parameter to control this behavior.\n",
      "  _warn_prf(average, modifier, msg_start, len(result))\n",
      "C:\\Users\\User\\AppData\\Local\\Programs\\Python\\Python311\\Lib\\site-packages\\sklearn\\metrics\\_classification.py:1344: UndefinedMetricWarning: Precision is ill-defined and being set to 0.0 in labels with no predicted samples. Use `zero_division` parameter to control this behavior.\n",
      "  _warn_prf(average, modifier, msg_start, len(result))\n",
      "C:\\Users\\User\\AppData\\Local\\Programs\\Python\\Python311\\Lib\\site-packages\\sklearn\\metrics\\_classification.py:1344: UndefinedMetricWarning: Precision is ill-defined and being set to 0.0 in labels with no predicted samples. Use `zero_division` parameter to control this behavior.\n",
      "  _warn_prf(average, modifier, msg_start, len(result))\n"
     ]
    }
   ],
   "source": [
    "if len(X_train) > 0 and len(X_test) > 0:\n",
    "    nb_accuracy = accuracy_score(y_test, nb_preds)\n",
    "    nb_precision = precision_score(y_test, nb_preds, average='weighted')\n",
    "    nb_recall = recall_score(y_test, nb_preds, average='weighted')\n",
    "\n",
    "    svm_accuracy = accuracy_score(y_test, svm_preds)\n",
    "    svm_precision = precision_score(y_test, svm_preds, average='weighted')\n",
    "    svm_recall = recall_score(y_test, svm_preds, average='weighted')\n",
    "\n",
    "    lr_accuracy = accuracy_score(y_test, lr_preds)\n",
    "    lr_precision = precision_score(y_test, lr_preds, average='weighted')\n",
    "    lr_recall = recall_score(y_test, lr_preds, average='weighted')\n",
    "\n",
    "    # Print evaluation results\n",
    "    print(\"Naive Bayes Accuracy: \", nb_accuracy)\n",
    "    print(\"Naive Bayes Precision: \", nb_precision)\n",
    "    print(\"Naive Bayes Recall: \", nb_recall)\n",
    "    print(\"SVM Accuracy: \", svm_accuracy)\n",
    "    print(\"SVM Precision: \", svm_precision)\n",
    "    print(\"SVM Recall: \", svm_recall)\n",
    "    print(\"Logistic Regression Accuracy: \", lr_accuracy)\n",
    "    print(\"Logistic Regression Precision: \", lr_precision)\n",
    "    print(\"Logistic Regression Recall: \", lr_recall)\n",
    "    \n",
    "else:\n",
    "    print(\"Error: Empty train or test set.\")"
   ]
  }
 ],
 "metadata": {
  "kernelspec": {
   "display_name": "Python 3 (ipykernel)",
   "language": "python",
   "name": "python3"
  },
  "language_info": {
   "codemirror_mode": {
    "name": "ipython",
    "version": 3
   },
   "file_extension": ".py",
   "mimetype": "text/x-python",
   "name": "python",
   "nbconvert_exporter": "python",
   "pygments_lexer": "ipython3",
   "version": "3.11.2"
  }
 },
 "nbformat": 4,
 "nbformat_minor": 5
}
